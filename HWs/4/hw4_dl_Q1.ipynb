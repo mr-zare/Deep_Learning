{
  "nbformat": 4,
  "nbformat_minor": 0,
  "metadata": {
    "colab": {
      "provenance": []
    },
    "kernelspec": {
      "name": "python3",
      "display_name": "Python 3"
    },
    "language_info": {
      "name": "python"
    }
  },
  "cells": [
    {
      "cell_type": "code",
      "execution_count": 48,
      "metadata": {
        "id": "rI3AE_fn9ZyQ",
        "colab": {
          "base_uri": "https://localhost:8080/"
        },
        "outputId": "0990fe7f-2292-49c0-f454-013a3aeeee76"
      },
      "outputs": [
        {
          "output_type": "stream",
          "name": "stdout",
          "text": [
            "Requirement already satisfied: keras-tuner in /usr/local/lib/python3.10/dist-packages (1.4.6)\n",
            "Requirement already satisfied: keras in /usr/local/lib/python3.10/dist-packages (from keras-tuner) (2.15.0)\n",
            "Requirement already satisfied: packaging in /usr/local/lib/python3.10/dist-packages (from keras-tuner) (23.2)\n",
            "Requirement already satisfied: requests in /usr/local/lib/python3.10/dist-packages (from keras-tuner) (2.31.0)\n",
            "Requirement already satisfied: kt-legacy in /usr/local/lib/python3.10/dist-packages (from keras-tuner) (1.0.5)\n",
            "Requirement already satisfied: charset-normalizer<4,>=2 in /usr/local/lib/python3.10/dist-packages (from requests->keras-tuner) (3.3.2)\n",
            "Requirement already satisfied: idna<4,>=2.5 in /usr/local/lib/python3.10/dist-packages (from requests->keras-tuner) (3.6)\n",
            "Requirement already satisfied: urllib3<3,>=1.21.1 in /usr/local/lib/python3.10/dist-packages (from requests->keras-tuner) (2.0.7)\n",
            "Requirement already satisfied: certifi>=2017.4.17 in /usr/local/lib/python3.10/dist-packages (from requests->keras-tuner) (2023.11.17)\n"
          ]
        }
      ],
      "source": [
        "pip install keras-tuner\n"
      ]
    },
    {
      "cell_type": "code",
      "source": [
        "import tensorflow as tf\n",
        "from tensorflow import keras\n",
        "from kerastuner.tuners import Hyperband\n",
        "from kerastuner.engine.hyperparameters import HyperParameters"
      ],
      "metadata": {
        "id": "zVcMXBM_vd5m"
      },
      "execution_count": null,
      "outputs": []
    },
    {
      "cell_type": "code",
      "source": [
        "mnist = keras.datasets.mnist\n",
        "(train_images, train_labels), (test_images, test_labels) = mnist.load_data()\n",
        "train_images = train_images.reshape(-1, 28, 28, 1).astype('float32') / 255.0\n",
        "test_images = test_images.reshape(-1, 28, 28, 1).astype('float32') / 255.0"
      ],
      "metadata": {
        "id": "QtI-VDCyvgYo"
      },
      "execution_count": null,
      "outputs": []
    },
    {
      "cell_type": "code",
      "source": [
        "def build_model(hp):\n",
        "    model = keras.Sequential()\n",
        "    for i in range(hp.Int('conv_layers', 2, 5)):\n",
        "        model.add(keras.layers.Conv2D(\n",
        "            filters=hp.Int(f'filters_{i}', 32, 256),\n",
        "            kernel_size=hp.Choice(f'kernel_{i}', [3, 5]),\n",
        "            activation='relu'\n",
        "        ))\n",
        "        model.add(keras.layers.MaxPooling2D(pool_size=(2, 2)))\n",
        "\n",
        "    model.add(keras.layers.Flatten())\n",
        "    for i in range(hp.Int('dense_layers', 2, 5)):\n",
        "        model.add(keras.layers.Dense(\n",
        "            units=hp.Int(f'units_{i}', 32, 256),\n",
        "            activation='relu'\n",
        "        ))\n",
        "        model.add(keras.layers.Dropout(rate=hp.Float(f'dropout_{i}', 0.0, 0.5, step=0.1)))\n",
        "\n",
        "    model.add(keras.layers.Dense(10, activation='softmax'))\n",
        "\n",
        "    model.compile(optimizer=keras.optimizers.Adam(learning_rate=hp.Choice('learning_rate', [1e-4, 5e-4, 1e-3])),\n",
        "                  loss='sparse_categorical_crossentropy',\n",
        "                  metrics=['accuracy'])\n",
        "    return model"
      ],
      "metadata": {
        "id": "H3_RnQQWvgML"
      },
      "execution_count": null,
      "outputs": []
    },
    {
      "cell_type": "code",
      "source": [
        "tuner = Hyperband(\n",
        "    build_model,\n",
        "    objective='val_accuracy',\n",
        "    max_epochs=7,\n",
        "    factor=3,\n",
        "    directory='my_dir',\n",
        "    project_name='mnist_classification',\n",
        "    max_consecutive_failed_trials=5\n",
        ")\n"
      ],
      "metadata": {
        "id": "Ikjz9lfkvwT3",
        "colab": {
          "base_uri": "https://localhost:8080/"
        },
        "outputId": "c177d762-3b24-4f19-c47a-ed8a09977731"
      },
      "execution_count": null,
      "outputs": [
        {
          "output_type": "stream",
          "name": "stdout",
          "text": [
            "Reloading Tuner from my_dir/mnist_classification/tuner0.json\n"
          ]
        }
      ]
    },
    {
      "cell_type": "code",
      "source": [
        "tuner.search(train_images, train_labels, epochs=7, validation_split=0.2)\n",
        "best_model = tuner.get_best_models(num_models=1)[0]\n",
        "best_hyperparameters = tuner.get_best_hyperparameters(num_trials=1)[0]"
      ],
      "metadata": {
        "colab": {
          "base_uri": "https://localhost:8080/"
        },
        "id": "TMT5LEGDv1MR",
        "outputId": "8ca110f5-7aac-4718-e086-f10417a4d541"
      },
      "execution_count": null,
      "outputs": [
        {
          "output_type": "stream",
          "name": "stdout",
          "text": [
            "Trial 8 Complete [00h 00m 01s]\n",
            "\n",
            "Best val_accuracy So Far: 0.9886666536331177\n",
            "Total elapsed time: 01h 23m 33s\n"
          ]
        }
      ]
    },
    {
      "cell_type": "code",
      "source": [
        "best_hyperparameters.values"
      ],
      "metadata": {
        "colab": {
          "base_uri": "https://localhost:8080/"
        },
        "id": "6AImEKKfEbaU",
        "outputId": "b443b7ac-2702-4346-bf20-7593509d159d"
      },
      "execution_count": null,
      "outputs": [
        {
          "output_type": "execute_result",
          "data": {
            "text/plain": [
              "{'conv_layers': 3,\n",
              " 'filters_0': 138,\n",
              " 'kernel_0': 5,\n",
              " 'filters_1': 138,\n",
              " 'kernel_1': 5,\n",
              " 'dense_layers': 4,\n",
              " 'units_0': 188,\n",
              " 'dropout_0': 0.2,\n",
              " 'units_1': 151,\n",
              " 'dropout_1': 0.0,\n",
              " 'learning_rate': 0.0001,\n",
              " 'filters_2': 167,\n",
              " 'kernel_2': 3,\n",
              " 'filters_3': 62,\n",
              " 'kernel_3': 5,\n",
              " 'filters_4': 42,\n",
              " 'kernel_4': 5,\n",
              " 'units_2': 142,\n",
              " 'dropout_2': 0.4,\n",
              " 'units_3': 139,\n",
              " 'dropout_3': 0.4,\n",
              " 'units_4': 101,\n",
              " 'dropout_4': 0.4,\n",
              " 'tuner/epochs': 8,\n",
              " 'tuner/initial_epoch': 0,\n",
              " 'tuner/bracket': 0,\n",
              " 'tuner/round': 0}"
            ]
          },
          "metadata": {},
          "execution_count": 29
        }
      ]
    },
    {
      "cell_type": "code",
      "source": [
        "import tensorflow as tf\n",
        "from tensorflow import keras\n",
        "\n",
        "model = keras.Sequential()\n",
        "for i in range(best_hyperparameters['conv_layers']):\n",
        "    model.add(keras.layers.Conv2D(\n",
        "        filters=best_hyperparameters[f'filters_{i}'],\n",
        "        kernel_size=best_hyperparameters[f'kernel_{i}'],\n",
        "        activation='relu'\n",
        "    ))\n",
        "    model.add(keras.layers.MaxPooling2D(pool_size=(2, 2)))\n",
        "\n",
        "model.add(keras.layers.Flatten())\n",
        "for i in range(best_hyperparameters['dense_layers']):\n",
        "    model.add(keras.layers.Dense(\n",
        "        units=best_hyperparameters[f'units_{i}'],\n",
        "        activation='relu'\n",
        "    ))\n",
        "    model.add(keras.layers.Dropout(rate=best_hyperparameters[f'dropout_{i}']))\n",
        "\n",
        "model.add(keras.layers.Dense(10, activation='softmax'))\n",
        "model.compile(optimizer=keras.optimizers.Adam(learning_rate=best_hyperparameters['learning_rate']),\n",
        "              loss='sparse_categorical_crossentropy',\n",
        "              metrics=['accuracy'])\n",
        "\n",
        "history=model.fit(train_images, train_labels, epochs=best_hyperparameters['tuner/epochs'], initial_epoch=best_hyperparameters['tuner/initial_epoch'],validation_data=(test_images, test_labels))\n",
        "\n",
        "# # Evaluate the model on test data\n",
        "# test_loss, test_accuracy = model.evaluate(test_images, test_labels)\n",
        "# print(f\"Test Accuracy: {test_accuracy}\")\n",
        "# print(f\"Test Loss: {test_loss}\")\n"
      ],
      "metadata": {
        "colab": {
          "base_uri": "https://localhost:8080/"
        },
        "id": "8Ai-DnlKO7Bb",
        "outputId": "2bc04dfc-c00d-4c04-ba63-6836d3277b84"
      },
      "execution_count": 50,
      "outputs": [
        {
          "output_type": "stream",
          "name": "stdout",
          "text": [
            "Epoch 1/8\n",
            "1875/1875 [==============================] - 467s 217ms/step - loss: 0.5569 - accuracy: 0.8194 - val_loss: 0.0802 - val_accuracy: 0.9769\n",
            "Epoch 2/8\n",
            "1875/1875 [==============================] - 414s 221ms/step - loss: 0.1236 - accuracy: 0.9676 - val_loss: 0.0522 - val_accuracy: 0.9854\n",
            "Epoch 3/8\n",
            "1875/1875 [==============================] - 401s 214ms/step - loss: 0.0801 - accuracy: 0.9789 - val_loss: 0.0368 - val_accuracy: 0.9889\n",
            "Epoch 4/8\n",
            "1875/1875 [==============================] - 409s 218ms/step - loss: 0.0591 - accuracy: 0.9849 - val_loss: 0.0379 - val_accuracy: 0.9892\n",
            "Epoch 5/8\n",
            "1875/1875 [==============================] - ETA: 0s - loss: 0.0483 - accuracy: 0.9875Epoch 6/8\n",
            "1875/1875 [==============================] - 383s 204ms/step - loss: 0.0372 - accuracy: 0.9907 - val_loss: 0.0302 - val_accuracy: 0.9906\n",
            "Epoch 7/8\n",
            "1875/1875 [==============================] - 391s 208ms/step - loss: 0.0297 - accuracy: 0.9922 - val_loss: 0.0284 - val_accuracy: 0.9914\n",
            "Epoch 8/8\n",
            "1875/1875 [==============================] - 395s 211ms/step - loss: 0.0252 - accuracy: 0.9935 - val_loss: 0.0268 - val_accuracy: 0.9931\n"
          ]
        }
      ]
    },
    {
      "cell_type": "code",
      "source": [
        "# test_loss, test_accuracy = best_model.evaluate(test_images, test_labels)\n",
        "# print(f\"Test Accuracy: {test_accuracy}\")\n"
      ],
      "metadata": {
        "id": "7htqvUA59ftk",
        "colab": {
          "base_uri": "https://localhost:8080/"
        },
        "outputId": "b23471b0-26a8-43bb-d098-e3ce7f86e14e"
      },
      "execution_count": null,
      "outputs": [
        {
          "output_type": "stream",
          "name": "stdout",
          "text": [
            "313/313 [==============================] - 24s 76ms/step - loss: 0.0327 - accuracy: 0.9896\n",
            "Test Accuracy: 0.9896000027656555\n"
          ]
        }
      ]
    },
    {
      "cell_type": "code",
      "source": [
        "best_model"
      ],
      "metadata": {
        "colab": {
          "base_uri": "https://localhost:8080/"
        },
        "id": "pMd62iyPD2BA",
        "outputId": "b069e6f7-7613-4849-d622-6b1e44058a0c"
      },
      "execution_count": null,
      "outputs": [
        {
          "output_type": "execute_result",
          "data": {
            "text/plain": [
              "<keras.src.engine.sequential.Sequential at 0x7aecf2799330>"
            ]
          },
          "metadata": {},
          "execution_count": 27
        }
      ]
    },
    {
      "cell_type": "code",
      "source": [
        "history.history"
      ],
      "metadata": {
        "colab": {
          "base_uri": "https://localhost:8080/"
        },
        "id": "QK9pBLBaj-9c",
        "outputId": "2d8d83d7-a304-461d-b4d8-f4dde406dedd"
      },
      "execution_count": 51,
      "outputs": [
        {
          "output_type": "execute_result",
          "data": {
            "text/plain": [
              "{'loss': [0.556928277015686,\n",
              "  0.12355846911668777,\n",
              "  0.0801350399851799,\n",
              "  0.05905294045805931,\n",
              "  0.0483357235789299,\n",
              "  0.037241753190755844,\n",
              "  0.029664667323231697,\n",
              "  0.02522665075957775],\n",
              " 'accuracy': [0.8194000124931335,\n",
              "  0.9676166772842407,\n",
              "  0.9789333343505859,\n",
              "  0.9849166870117188,\n",
              "  0.9874666929244995,\n",
              "  0.9906833171844482,\n",
              "  0.9921666383743286,\n",
              "  0.9935333132743835],\n",
              " 'val_loss': [0.08023905009031296,\n",
              "  0.05216047912836075,\n",
              "  0.03683878853917122,\n",
              "  0.03791666030883789,\n",
              "  0.02985384501516819,\n",
              "  0.03017403930425644,\n",
              "  0.028447235003113747,\n",
              "  0.02684820629656315],\n",
              " 'val_accuracy': [0.9768999814987183,\n",
              "  0.9854000210762024,\n",
              "  0.9889000058174133,\n",
              "  0.9891999959945679,\n",
              "  0.991599977016449,\n",
              "  0.9905999898910522,\n",
              "  0.9914000034332275,\n",
              "  0.9930999875068665]}"
            ]
          },
          "metadata": {},
          "execution_count": 51
        }
      ]
    },
    {
      "cell_type": "code",
      "source": [
        "from matplotlib import pyplot as plt\n",
        "plt.figure(figsize=(4, 5))\n",
        "\n",
        "plt.subplot(2, 1, 1)\n",
        "plt.plot(history.history['accuracy'])\n",
        "plt.plot(history.history['val_accuracy'])\n",
        "plt.title('accuracy of model')\n",
        "plt.xlabel('epoch')\n",
        "plt.ylabel('accuracy')\n",
        "plt.legend(['train', 'test'], loc='lower right')\n",
        "\n",
        "# Plot training & validation loss values\n",
        "plt.subplot(2, 1, 2)\n",
        "plt.plot(history.history['loss'])\n",
        "plt.plot(history.history['val_loss'])\n",
        "plt.title('loss of model')\n",
        "plt.xlabel('epoch')\n",
        "plt.ylabel('loss')\n",
        "plt.legend(['train', 'test'], loc='center right')\n",
        "plt.tight_layout()\n",
        "plt.show()"
      ],
      "metadata": {
        "colab": {
          "base_uri": "https://localhost:8080/",
          "height": 507
        },
        "id": "F1uOOowmthUU",
        "outputId": "1e463c96-f823-4b7a-ebf4-2193f52251f6"
      },
      "execution_count": 52,
      "outputs": [
        {
          "output_type": "display_data",
          "data": {
            "text/plain": [
              "<Figure size 400x500 with 2 Axes>"
            ],
            "image/png": "[encoded data removed]"
          },
          "metadata": {}
        }
      ]
    },
    {
      "cell_type": "code",
      "source": [],
      "metadata": {
        "id": "ph8oExvHCy8F"
      },
      "execution_count": null,
      "outputs": []
    }
  ]
}