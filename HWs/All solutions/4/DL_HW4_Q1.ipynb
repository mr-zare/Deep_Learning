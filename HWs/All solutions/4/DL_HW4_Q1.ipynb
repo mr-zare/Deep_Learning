{
  "nbformat": 4,
  "nbformat_minor": 0,
  "metadata": {
    "colab": {
      "provenance": [],
      "gpuType": "T4"
    },
    "kernelspec": {
      "name": "python3",
      "display_name": "Python 3"
    },
    "language_info": {
      "name": "python"
    },
    "accelerator": "GPU"
  },
  "cells": [
    {
      "cell_type": "markdown",
      "source": [
        "import libraries"
      ],
      "metadata": {
        "id": "3KGgwp4E60U4"
      }
    },
    {
      "cell_type": "code",
      "source": [
        "!pip install keras-tuner"
      ],
      "metadata": {
        "colab": {
          "base_uri": "https://localhost:8080/"
        },
        "id": "7rfjIItq7Uug",
        "outputId": "9c052ebf-f5df-479d-ac8a-78ffc736358c"
      },
      "execution_count": 1,
      "outputs": [
        {
          "output_type": "stream",
          "name": "stdout",
          "text": [
            "Collecting keras-tuner\n",
            "  Downloading keras_tuner-1.4.6-py3-none-any.whl (128 kB)\n",
            "\u001b[2K     \u001b[90m━━━━━━━━━━━━━━━━━━━━━━━━━━━━━━━━━━━━━━━━\u001b[0m \u001b[32m128.9/128.9 kB\u001b[0m \u001b[31m1.5 MB/s\u001b[0m eta \u001b[36m0:00:00\u001b[0m\n",
            "\u001b[?25hRequirement already satisfied: keras in /usr/local/lib/python3.10/dist-packages (from keras-tuner) (2.14.0)\n",
            "Requirement already satisfied: packaging in /usr/local/lib/python3.10/dist-packages (from keras-tuner) (23.2)\n",
            "Requirement already satisfied: requests in /usr/local/lib/python3.10/dist-packages (from keras-tuner) (2.31.0)\n",
            "Collecting kt-legacy (from keras-tuner)\n",
            "  Downloading kt_legacy-1.0.5-py3-none-any.whl (9.6 kB)\n",
            "Requirement already satisfied: charset-normalizer<4,>=2 in /usr/local/lib/python3.10/dist-packages (from requests->keras-tuner) (3.3.2)\n",
            "Requirement already satisfied: idna<4,>=2.5 in /usr/local/lib/python3.10/dist-packages (from requests->keras-tuner) (3.6)\n",
            "Requirement already satisfied: urllib3<3,>=1.21.1 in /usr/local/lib/python3.10/dist-packages (from requests->keras-tuner) (2.0.7)\n",
            "Requirement already satisfied: certifi>=2017.4.17 in /usr/local/lib/python3.10/dist-packages (from requests->keras-tuner) (2023.11.17)\n",
            "Installing collected packages: kt-legacy, keras-tuner\n",
            "Successfully installed keras-tuner-1.4.6 kt-legacy-1.0.5\n"
          ]
        }
      ]
    },
    {
      "cell_type": "code",
      "source": [
        "import kerastuner as kt\n",
        "from tensorflow import keras\n",
        "from tensorflow.keras import layers\n",
        "import numpy as np"
      ],
      "metadata": {
        "colab": {
          "base_uri": "https://localhost:8080/"
        },
        "id": "Wyc3DyiL62Yw",
        "outputId": "62651e8c-0fb5-46b9-dd35-92e2f7a55320"
      },
      "execution_count": 2,
      "outputs": [
        {
          "output_type": "stream",
          "name": "stderr",
          "text": [
            "<ipython-input-2-2e241f8e1de0>:1: DeprecationWarning: `import kerastuner` is deprecated, please use `import keras_tuner`.\n",
            "  import kerastuner as kt\n"
          ]
        }
      ]
    },
    {
      "cell_type": "markdown",
      "source": [
        "load and preprocess data"
      ],
      "metadata": {
        "id": "ulXE8a2165Ro"
      }
    },
    {
      "cell_type": "code",
      "source": [
        "# Load MNIST dataset\n",
        "(x_train, y_train), (x_test, y_test) = keras.datasets.mnist.load_data()\n",
        "\n",
        "# Preprocess data\n",
        "x_train = x_train.reshape(-1, 28, 28, 1) / 255.0\n",
        "x_test = x_test.reshape(-1, 28, 28, 1) / 255.0"
      ],
      "metadata": {
        "colab": {
          "base_uri": "https://localhost:8080/"
        },
        "id": "mVh8lyw868Oo",
        "outputId": "ec357a41-ad61-4673-9fd7-e9a536ed0fff"
      },
      "execution_count": 3,
      "outputs": [
        {
          "output_type": "stream",
          "name": "stdout",
          "text": [
            "Downloading data from https://storage.googleapis.com/tensorflow/tf-keras-datasets/mnist.npz\n",
            "11490434/11490434 [==============================] - 0s 0us/step\n"
          ]
        }
      ]
    },
    {
      "cell_type": "markdown",
      "source": [
        "build the Keras Tuner Model (CNN HyperModel)"
      ],
      "metadata": {
        "id": "8Twh1nDg7AbA"
      }
    },
    {
      "cell_type": "code",
      "source": [
        "# Build the Keras Tuner model\n",
        "def model_builder(hp):\n",
        "    model = keras.Sequential() # Initialize model\n",
        "\n",
        "    # Tune number of convolution layers\n",
        "    for i in range(hp.Int('num_conv', 1, 5)): # 1 to 6 convolution layers\n",
        "        model.add(layers.Conv2D(\n",
        "            filters=hp.Int('filters_' + str(i), 32, 256, step=32), # 32 to 256 filters\n",
        "            kernel_size=hp.Choice('kernel_size_' + str(i), values=[3, 5]), # 3x3 or 5x5 kernel size\n",
        "            activation='relu'\n",
        "        ))\n",
        "\n",
        "        # Tune pooling and dropout\n",
        "        if (i % 2 == 1):\n",
        "            if hp.Choice('pooling_' + str(i), values=['max', 'avg']) == 'max': # Max or average pooling\n",
        "                model.add(layers.MaxPooling2D())\n",
        "            else:\n",
        "                model.add(layers.AveragePooling2D())\n",
        "\n",
        "            model.add(layers.Dropout(hp.Float('dropout_' + str(i), 0, 0.5, step=0.1))) # 0 to 0.5 dropout rate\n",
        "\n",
        "    model.add(layers.Flatten()) # Flatten output of convolution layers\n",
        "\n",
        "    # Tune dense layers\n",
        "    for i in range(hp.Int('num_dense', 1, 4)): # 1 to 4 dense layers (in addition to output layer we have 2 to 5 layers)\n",
        "        model.add(layers.Dense(units=hp.Int('units_' + str(i), 32, 256, step=32), activation='relu')) # 32 to 256 units\n",
        "        model.add(layers.Dropout(hp.Float('dropout_' + str(i), 0, 0.5, step=0.1))) # 0 to 0.5 dropout rate\n",
        "\n",
        "    model.add(layers.Dense(10, activation='softmax')) # Output layer (last Dense layer)\n",
        "\n",
        "    # Compile model\n",
        "    model.compile(\n",
        "        optimizer=keras.optimizers.Adam( # we use Adam optimizer\n",
        "            hp.Choice('learning_rate', values=[1e-3, 1e-4, 1e-5]) # 0.001, 0.0001, or 0.00001 learning rate\n",
        "        ),\n",
        "        loss='sparse_categorical_crossentropy',\n",
        "        metrics=['accuracy']\n",
        "    )\n",
        "\n",
        "    return model"
      ],
      "metadata": {
        "id": "N8C8SEKM7MxC"
      },
      "execution_count": 6,
      "outputs": []
    },
    {
      "cell_type": "markdown",
      "source": [
        "find best model"
      ],
      "metadata": {
        "id": "qr7QlZ-r7ZzJ"
      }
    },
    {
      "cell_type": "code",
      "source": [
        "# Initialize Bayesian tuner\n",
        "tuner = kt.BayesianOptimization(\n",
        "    model_builder,\n",
        "    objective='val_accuracy', # maximize validation accuracy\n",
        "    max_trials=12, # Runtime will be very high if this is increased\n",
        "    directory='my_dir',\n",
        "    project_name='mnist_tuner'\n",
        ")\n",
        "\n",
        "# Perform Bayesian hyperparameter search\n",
        "tuner.search(x_train, y_train, # Train on training set\n",
        "             epochs=4, # 4 epochs per trial\n",
        "             validation_data=(x_test, y_test)) # Evaluate on test set\n",
        "\n",
        "# Get best model\n",
        "best_model = tuner.get_best_models(num_models=1)[0] # Get best model\n",
        "\n",
        "# get best model hyperparameters\n",
        "best_hps = tuner.get_best_hyperparameters(num_trials=1)[0] # Get best hyperparameters\n",
        "print(f\"\"\"\n",
        "    The hyperparameter search is complete.\\n\n",
        "    The optimal number of convolution layers is {best_hps.get('num_conv')},\\n\n",
        "    the optimal number of dense layers is {best_hps.get('num_dense')}, \\n\n",
        "    the optimal learning rate for the optimizer is {best_hps.get('learning_rate')},\\n\n",
        "\"\"\")"
      ],
      "metadata": {
        "colab": {
          "base_uri": "https://localhost:8080/"
        },
        "id": "XBh9mnPR7b5Q",
        "outputId": "46311e8b-7da6-4e5f-f49f-5e7e6c5af7bf"
      },
      "execution_count": 7,
      "outputs": [
        {
          "output_type": "stream",
          "name": "stdout",
          "text": [
            "Trial 12 Complete [00h 01m 24s]\n",
            "val_accuracy: 0.9857000112533569\n",
            "\n",
            "Best val_accuracy So Far: 0.9922000169754028\n",
            "Total elapsed time: 00h 14m 46s\n",
            "\n",
            "    The hyperparameter search is complete.\n",
            "\n",
            "    The optimal number of convolution layers is 4,\n",
            "\n",
            "    the optimal number of dense layers is 2, \n",
            "\n",
            "    the optimal learning rate for the optimizer is 0.0001,\n",
            " \n",
            "\n"
          ]
        }
      ]
    },
    {
      "cell_type": "code",
      "source": [
        "print(\"best hyperparameters found by tuner:\")\n",
        "best_hps.values"
      ],
      "metadata": {
        "colab": {
          "base_uri": "https://localhost:8080/"
        },
        "id": "NOohK8OPErta",
        "outputId": "edb91f4c-d5eb-433d-dd2a-ca9f833819be"
      },
      "execution_count": 8,
      "outputs": [
        {
          "output_type": "stream",
          "name": "stdout",
          "text": [
            "best hyperparameters found by tuner:\n"
          ]
        },
        {
          "output_type": "execute_result",
          "data": {
            "text/plain": [
              "{'num_conv': 4,\n",
              " 'filters_0': 64,\n",
              " 'kernel_size_0': 3,\n",
              " 'pooling_0': 'avg',\n",
              " 'dropout_0': 0.0,\n",
              " 'num_dense': 2,\n",
              " 'units_0': 160,\n",
              " 'learning_rate': 0.0001,\n",
              " 'filters_1': 224,\n",
              " 'kernel_size_1': 3,\n",
              " 'filters_2': 256,\n",
              " 'kernel_size_2': 5,\n",
              " 'pooling_2': 'avg',\n",
              " 'dropout_2': 0.1,\n",
              " 'units_1': 224,\n",
              " 'dropout_1': 0.4,\n",
              " 'filters_3': 160,\n",
              " 'kernel_size_3': 5,\n",
              " 'units_2': 192,\n",
              " 'filters_4': 96,\n",
              " 'kernel_size_4': 3,\n",
              " 'pooling_4': 'avg',\n",
              " 'dropout_4': 0.1,\n",
              " 'units_3': 256,\n",
              " 'dropout_3': 0.4,\n",
              " 'pooling_1': 'max',\n",
              " 'pooling_3': 'max'}"
            ]
          },
          "metadata": {},
          "execution_count": 8
        }
      ]
    },
    {
      "cell_type": "markdown",
      "source": [
        "train best model and evaluate it on test data"
      ],
      "metadata": {
        "id": "IoGYUY8B7sQy"
      }
    },
    {
      "cell_type": "code",
      "source": [
        "# Train best model on entire training set\n",
        "history = best_model.fit(x_train, y_train, epochs=10, validation_split=0.2)"
      ],
      "metadata": {
        "colab": {
          "base_uri": "https://localhost:8080/"
        },
        "id": "JCAxToFj7wji",
        "outputId": "e6e7edb6-0d32-4c20-8c61-5bf48abd25da"
      },
      "execution_count": 9,
      "outputs": [
        {
          "output_type": "stream",
          "name": "stdout",
          "text": [
            "Epoch 1/10\n",
            "1500/1500 [==============================] - 25s 15ms/step - loss: 0.0320 - accuracy: 0.9904 - val_loss: 0.0205 - val_accuracy: 0.9933\n",
            "Epoch 2/10\n",
            "1500/1500 [==============================] - 22s 15ms/step - loss: 0.0273 - accuracy: 0.9919 - val_loss: 0.0193 - val_accuracy: 0.9944\n",
            "Epoch 3/10\n",
            "1500/1500 [==============================] - 21s 14ms/step - loss: 0.0215 - accuracy: 0.9931 - val_loss: 0.0193 - val_accuracy: 0.9949\n",
            "Epoch 4/10\n",
            "1500/1500 [==============================] - 22s 15ms/step - loss: 0.0185 - accuracy: 0.9943 - val_loss: 0.0213 - val_accuracy: 0.9939\n",
            "Epoch 5/10\n",
            "1500/1500 [==============================] - 21s 14ms/step - loss: 0.0165 - accuracy: 0.9945 - val_loss: 0.0336 - val_accuracy: 0.9915\n",
            "Epoch 6/10\n",
            "1500/1500 [==============================] - 23s 15ms/step - loss: 0.0143 - accuracy: 0.9952 - val_loss: 0.0252 - val_accuracy: 0.9945\n",
            "Epoch 7/10\n",
            "1500/1500 [==============================] - 21s 14ms/step - loss: 0.0146 - accuracy: 0.9956 - val_loss: 0.0227 - val_accuracy: 0.9935\n",
            "Epoch 8/10\n",
            "1500/1500 [==============================] - 23s 15ms/step - loss: 0.0101 - accuracy: 0.9968 - val_loss: 0.0230 - val_accuracy: 0.9940\n",
            "Epoch 9/10\n",
            "1500/1500 [==============================] - 23s 15ms/step - loss: 0.0110 - accuracy: 0.9969 - val_loss: 0.0200 - val_accuracy: 0.9951\n",
            "Epoch 10/10\n",
            "1500/1500 [==============================] - 21s 14ms/step - loss: 0.0093 - accuracy: 0.9972 - val_loss: 0.0263 - val_accuracy: 0.9940\n"
          ]
        }
      ]
    },
    {
      "cell_type": "code",
      "source": [
        "# Print structure of best model\n",
        "best_model.summary()"
      ],
      "metadata": {
        "colab": {
          "base_uri": "https://localhost:8080/"
        },
        "id": "6FbOaCduBpDL",
        "outputId": "63228453-c93a-4f98-d0a8-c597a9c51dd5"
      },
      "execution_count": 10,
      "outputs": [
        {
          "output_type": "stream",
          "name": "stdout",
          "text": [
            "Model: \"sequential\"\n",
            "_________________________________________________________________\n",
            " Layer (type)                Output Shape              Param #   \n",
            "=================================================================\n",
            " conv2d (Conv2D)             (32, 26, 26, 64)          640       \n",
            "                                                                 \n",
            " conv2d_1 (Conv2D)           (32, 24, 24, 224)         129248    \n",
            "                                                                 \n",
            " max_pooling2d (MaxPooling2  (32, 12, 12, 224)         0         \n",
            " D)                                                              \n",
            "                                                                 \n",
            " dropout (Dropout)           (32, 12, 12, 224)         0         \n",
            "                                                                 \n",
            " conv2d_2 (Conv2D)           (32, 8, 8, 256)           1433856   \n",
            "                                                                 \n",
            " conv2d_3 (Conv2D)           (32, 4, 4, 160)           1024160   \n",
            "                                                                 \n",
            " max_pooling2d_1 (MaxPoolin  (32, 2, 2, 160)           0         \n",
            " g2D)                                                            \n",
            "                                                                 \n",
            " dropout_1 (Dropout)         (32, 2, 2, 160)           0         \n",
            "                                                                 \n",
            " flatten (Flatten)           (32, 640)                 0         \n",
            "                                                                 \n",
            " dense (Dense)               (32, 160)                 102560    \n",
            "                                                                 \n",
            " dropout_2 (Dropout)         (32, 160)                 0         \n",
            "                                                                 \n",
            " dense_1 (Dense)             (32, 224)                 36064     \n",
            "                                                                 \n",
            " dropout_3 (Dropout)         (32, 224)                 0         \n",
            "                                                                 \n",
            " dense_2 (Dense)             (32, 10)                  2250      \n",
            "                                                                 \n",
            "=================================================================\n",
            "Total params: 2728778 (10.41 MB)\n",
            "Trainable params: 2728778 (10.41 MB)\n",
            "Non-trainable params: 0 (0.00 Byte)\n",
            "_________________________________________________________________\n"
          ]
        }
      ]
    },
    {
      "cell_type": "code",
      "source": [
        "# plot training loss and validation loss over epochs and training accuracy and validation accuracy over epochs in 2 subplots\n",
        "import matplotlib.pyplot as plt\n",
        "plt.subplot(2, 1, 1)\n",
        "plt.plot(history.history['loss'], label='Training loss')\n",
        "plt.plot(history.history['val_loss'], label='Validation loss')\n",
        "plt.xlabel('Epoch')\n",
        "plt.ylabel('Loss')\n",
        "plt.legend()\n",
        "plt.subplot(2, 1, 2)\n",
        "plt.plot(history.history['accuracy'], label='Training accuracy')\n",
        "plt.plot(history.history['val_accuracy'], label='Validation accuracy')\n",
        "plt.xlabel('Epoch')\n",
        "plt.ylabel('Accuracy')\n",
        "plt.legend()\n",
        "plt.tight_layout()\n",
        "plt.show()"
      ],
      "metadata": {
        "colab": {
          "base_uri": "https://localhost:8080/",
          "height": 486
        },
        "id": "byBBe2RgCaGC",
        "outputId": "0a9f0388-597c-46a6-945f-6018ff1fc5b6"
      },
      "execution_count": 11,
      "outputs": [
        {
          "output_type": "display_data",
          "data": {
            "text/plain": [
              "<Figure size 640x480 with 2 Axes>"
            ],
            "image/png": "[encoded data removed]"
          },
          "metadata": {}
        }
      ]
    },
    {
      "cell_type": "code",
      "source": [
        "# Evaluate the best model on the test set\n",
        "eval_result = best_model.evaluate(x_test, y_test) # Evaluate on test set\n",
        "\n",
        "print(\"Test accuracy:\", eval_result[1])\n",
        "print(\"Test loss:\", eval_result[0])"
      ],
      "metadata": {
        "colab": {
          "base_uri": "https://localhost:8080/"
        },
        "id": "qnWDHo4k73ch",
        "outputId": "3b0127b7-c851-4252-a474-bf7601d4c8ca"
      },
      "execution_count": 12,
      "outputs": [
        {
          "output_type": "stream",
          "name": "stdout",
          "text": [
            "313/313 [==============================] - 2s 7ms/step - loss: 0.0235 - accuracy: 0.9936\n",
            "Test accuracy: 0.9936000108718872\n",
            "Test loss: 0.023486066609621048\n"
          ]
        }
      ]
    }
  ]
}