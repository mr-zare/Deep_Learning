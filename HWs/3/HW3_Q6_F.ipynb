{
  "nbformat": 4,
  "nbformat_minor": 0,
  "metadata": {
    "colab": {
      "provenance": []
    },
    "kernelspec": {
      "name": "python3",
      "display_name": "Python 3"
    },
    "language_info": {
      "name": "python"
    }
  },
  "cells": [
    {
      "cell_type": "code",
      "execution_count": 2,
      "metadata": {
        "id": "dkQz_EaE2w6L"
      },
      "outputs": [],
      "source": [
        "import tensorflow as tf\n",
        "\n",
        "input_image = tf.random.normal((1, 4, 4, 3))\n",
        "model = tf.keras.Sequential([\n",
        "    tf.keras.layers.Conv2D(filters=3, kernel_size=1, strides=1, padding='valid', activation='linear', input_shape=(4, 4, 3))\n",
        "])"
      ]
    },
    {
      "cell_type": "code",
      "source": [
        "model.summary()"
      ],
      "metadata": {
        "colab": {
          "base_uri": "https://localhost:8080/"
        },
        "id": "F2LqsQ8Q3ADR",
        "outputId": "b3be8195-9f37-418f-b17f-251a234720f1"
      },
      "execution_count": 3,
      "outputs": [
        {
          "output_type": "stream",
          "name": "stdout",
          "text": [
            "Model: \"sequential_1\"\n",
            "_________________________________________________________________\n",
            " Layer (type)                Output Shape              Param #   \n",
            "=================================================================\n",
            " conv2d_1 (Conv2D)           (None, 4, 4, 3)           12        \n",
            "                                                                 \n",
            "=================================================================\n",
            "Total params: 12 (48.00 Byte)\n",
            "Trainable params: 12 (48.00 Byte)\n",
            "Non-trainable params: 0 (0.00 Byte)\n",
            "_________________________________________________________________\n"
          ]
        }
      ]
    },
    {
      "cell_type": "code",
      "source": [
        "output = model.predict(input_image)\n",
        "\n",
        "print(f\"Input image shape: {input_image.shape}\")\n",
        "print(f\"Output shape after 1x1 convolution: {output.shape}\")\n"
      ],
      "metadata": {
        "colab": {
          "base_uri": "https://localhost:8080/"
        },
        "id": "OwPlKw0s3Byt",
        "outputId": "a9b1ef22-2d2f-4817-d718-3fec5cb7e58b"
      },
      "execution_count": 4,
      "outputs": [
        {
          "output_type": "stream",
          "name": "stdout",
          "text": [
            "1/1 [==============================] - 0s 41ms/step\n",
            "Input image shape: (1, 4, 4, 3)\n",
            "Output shape after 1x1 convolution: (1, 4, 4, 3)\n"
          ]
        }
      ]
    }
  ]
}